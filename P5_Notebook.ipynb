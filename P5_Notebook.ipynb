{
 "cells": [
  {
   "cell_type": "markdown",
   "id": "90dc99c3",
   "metadata": {},
   "source": [
    "# P5 - Optimisez la gestion des données d'une boutique avec R ou Python"
   ]
  },
  {
   "cell_type": "markdown",
   "id": "3a76f1ee",
   "metadata": {},
   "source": [
    "## Préparation"
   ]
  },
  {
   "cell_type": "markdown",
   "id": "960b2a15",
   "metadata": {},
   "source": [
    "* Importation des librairies"
   ]
  },
  {
   "cell_type": "code",
   "execution_count": 1,
   "id": "091a0898",
   "metadata": {},
   "outputs": [],
   "source": [
    "import pandas as pd\n",
    "import numpy as np\n",
    "import matplotlib.pyplot as plt"
   ]
  },
  {
   "cell_type": "markdown",
   "id": "7318159f",
   "metadata": {},
   "source": [
    "* Importation des fichiers"
   ]
  },
  {
   "cell_type": "code",
   "execution_count": null,
   "id": "5473b963",
   "metadata": {},
   "outputs": [],
   "source": [
    "erp = pd.read_excel('erp.xlsx', index_col=None)"
   ]
  },
  {
   "cell_type": "code",
   "execution_count": null,
   "id": "8f775374",
   "metadata": {},
   "outputs": [],
   "source": [
    "web = pd.read_excel('web.xlsx',index_col=None)"
   ]
  },
  {
   "cell_type": "code",
   "execution_count": null,
   "id": "61bfc80e",
   "metadata": {},
   "outputs": [],
   "source": [
    "liaison = pd.read_excel('liaison.xlsx', index_col=None)"
   ]
  },
  {
   "cell_type": "markdown",
   "id": "148d0627",
   "metadata": {},
   "source": [
    "* Affichage des fichiers"
   ]
  },
  {
   "cell_type": "code",
   "execution_count": 5,
   "id": "7080e46d",
   "metadata": {},
   "outputs": [
    {
     "data": {
      "text/html": [
       "<div>\n",
       "<style scoped>\n",
       "    .dataframe tbody tr th:only-of-type {\n",
       "        vertical-align: middle;\n",
       "    }\n",
       "\n",
       "    .dataframe tbody tr th {\n",
       "        vertical-align: top;\n",
       "    }\n",
       "\n",
       "    .dataframe thead th {\n",
       "        text-align: right;\n",
       "    }\n",
       "</style>\n",
       "<table border=\"1\" class=\"dataframe\">\n",
       "  <thead>\n",
       "    <tr style=\"text-align: right;\">\n",
       "      <th></th>\n",
       "      <th>product_id</th>\n",
       "      <th>onsale_web</th>\n",
       "      <th>price</th>\n",
       "      <th>stock_quantity</th>\n",
       "      <th>stock_status</th>\n",
       "    </tr>\n",
       "  </thead>\n",
       "  <tbody>\n",
       "    <tr>\n",
       "      <th>0</th>\n",
       "      <td>3847</td>\n",
       "      <td>1</td>\n",
       "      <td>24.2</td>\n",
       "      <td>0</td>\n",
       "      <td>outofstock</td>\n",
       "    </tr>\n",
       "    <tr>\n",
       "      <th>1</th>\n",
       "      <td>3849</td>\n",
       "      <td>1</td>\n",
       "      <td>34.3</td>\n",
       "      <td>0</td>\n",
       "      <td>outofstock</td>\n",
       "    </tr>\n",
       "    <tr>\n",
       "      <th>2</th>\n",
       "      <td>3850</td>\n",
       "      <td>1</td>\n",
       "      <td>20.8</td>\n",
       "      <td>0</td>\n",
       "      <td>outofstock</td>\n",
       "    </tr>\n",
       "    <tr>\n",
       "      <th>3</th>\n",
       "      <td>4032</td>\n",
       "      <td>1</td>\n",
       "      <td>14.1</td>\n",
       "      <td>0</td>\n",
       "      <td>outofstock</td>\n",
       "    </tr>\n",
       "    <tr>\n",
       "      <th>4</th>\n",
       "      <td>4039</td>\n",
       "      <td>1</td>\n",
       "      <td>46.0</td>\n",
       "      <td>0</td>\n",
       "      <td>outofstock</td>\n",
       "    </tr>\n",
       "  </tbody>\n",
       "</table>\n",
       "</div>"
      ],
      "text/plain": [
       "   product_id  onsale_web  price  stock_quantity stock_status\n",
       "0        3847           1   24.2               0   outofstock\n",
       "1        3849           1   34.3               0   outofstock\n",
       "2        3850           1   20.8               0   outofstock\n",
       "3        4032           1   14.1               0   outofstock\n",
       "4        4039           1   46.0               0   outofstock"
      ]
     },
     "execution_count": 5,
     "metadata": {},
     "output_type": "execute_result"
    }
   ],
   "source": [
    "erp.head()"
   ]
  },
  {
   "cell_type": "code",
   "execution_count": 6,
   "id": "efb756de",
   "metadata": {},
   "outputs": [
    {
     "data": {
      "text/html": [
       "<div>\n",
       "<style scoped>\n",
       "    .dataframe tbody tr th:only-of-type {\n",
       "        vertical-align: middle;\n",
       "    }\n",
       "\n",
       "    .dataframe tbody tr th {\n",
       "        vertical-align: top;\n",
       "    }\n",
       "\n",
       "    .dataframe thead th {\n",
       "        text-align: right;\n",
       "    }\n",
       "</style>\n",
       "<table border=\"1\" class=\"dataframe\">\n",
       "  <thead>\n",
       "    <tr style=\"text-align: right;\">\n",
       "      <th></th>\n",
       "      <th>sku</th>\n",
       "      <th>virtual</th>\n",
       "      <th>downloadable</th>\n",
       "      <th>rating_count</th>\n",
       "      <th>average_rating</th>\n",
       "      <th>total_sales</th>\n",
       "      <th>tax_status</th>\n",
       "      <th>tax_class</th>\n",
       "      <th>post_author</th>\n",
       "      <th>post_date</th>\n",
       "      <th>...</th>\n",
       "      <th>post_name</th>\n",
       "      <th>post_modified</th>\n",
       "      <th>post_modified_gmt</th>\n",
       "      <th>post_content_filtered</th>\n",
       "      <th>post_parent</th>\n",
       "      <th>guid</th>\n",
       "      <th>menu_order</th>\n",
       "      <th>post_type</th>\n",
       "      <th>post_mime_type</th>\n",
       "      <th>comment_count</th>\n",
       "    </tr>\n",
       "  </thead>\n",
       "  <tbody>\n",
       "    <tr>\n",
       "      <th>0</th>\n",
       "      <td>bon-cadeau-25-euros</td>\n",
       "      <td>0</td>\n",
       "      <td>0</td>\n",
       "      <td>0</td>\n",
       "      <td>0.0</td>\n",
       "      <td>10.0</td>\n",
       "      <td>taxable</td>\n",
       "      <td>NaN</td>\n",
       "      <td>1.0</td>\n",
       "      <td>2018-06-01 13:53:46</td>\n",
       "      <td>...</td>\n",
       "      <td>bon-cadeau-de-25-euros</td>\n",
       "      <td>2018-06-01 14:13:57</td>\n",
       "      <td>2018-06-01 12:13:57</td>\n",
       "      <td>NaN</td>\n",
       "      <td>0.0</td>\n",
       "      <td>https://www.bottle-neck.fr/?post_type=product&amp;...</td>\n",
       "      <td>0.0</td>\n",
       "      <td>product</td>\n",
       "      <td>NaN</td>\n",
       "      <td>0.0</td>\n",
       "    </tr>\n",
       "    <tr>\n",
       "      <th>1</th>\n",
       "      <td>15298</td>\n",
       "      <td>0</td>\n",
       "      <td>0</td>\n",
       "      <td>0</td>\n",
       "      <td>0.0</td>\n",
       "      <td>6.0</td>\n",
       "      <td>taxable</td>\n",
       "      <td>NaN</td>\n",
       "      <td>2.0</td>\n",
       "      <td>2018-02-08 12:58:52</td>\n",
       "      <td>...</td>\n",
       "      <td>pierre-jean-villa-saint-joseph-preface-2018</td>\n",
       "      <td>2019-12-30 09:30:29</td>\n",
       "      <td>2019-12-30 08:30:29</td>\n",
       "      <td>NaN</td>\n",
       "      <td>0.0</td>\n",
       "      <td>https://www.bottle-neck.fr/?post_type=product&amp;...</td>\n",
       "      <td>0.0</td>\n",
       "      <td>product</td>\n",
       "      <td>NaN</td>\n",
       "      <td>0.0</td>\n",
       "    </tr>\n",
       "    <tr>\n",
       "      <th>2</th>\n",
       "      <td>15296</td>\n",
       "      <td>0</td>\n",
       "      <td>0</td>\n",
       "      <td>0</td>\n",
       "      <td>0.0</td>\n",
       "      <td>0.0</td>\n",
       "      <td>taxable</td>\n",
       "      <td>NaN</td>\n",
       "      <td>2.0</td>\n",
       "      <td>2018-02-08 13:49:41</td>\n",
       "      <td>...</td>\n",
       "      <td>pierre-jean-villa-saint-joseph-tilde-2017</td>\n",
       "      <td>2019-12-21 09:00:17</td>\n",
       "      <td>2019-12-21 08:00:17</td>\n",
       "      <td>NaN</td>\n",
       "      <td>0.0</td>\n",
       "      <td>https://www.bottle-neck.fr/?post_type=product&amp;...</td>\n",
       "      <td>0.0</td>\n",
       "      <td>product</td>\n",
       "      <td>NaN</td>\n",
       "      <td>0.0</td>\n",
       "    </tr>\n",
       "    <tr>\n",
       "      <th>3</th>\n",
       "      <td>15300</td>\n",
       "      <td>0</td>\n",
       "      <td>0</td>\n",
       "      <td>0</td>\n",
       "      <td>0.0</td>\n",
       "      <td>0.0</td>\n",
       "      <td>taxable</td>\n",
       "      <td>NaN</td>\n",
       "      <td>2.0</td>\n",
       "      <td>2018-02-08 14:08:36</td>\n",
       "      <td>...</td>\n",
       "      <td>pierre-jean-villa-croze-hermitage-accroche-coe...</td>\n",
       "      <td>2020-06-26 18:15:03</td>\n",
       "      <td>2020-06-26 16:15:03</td>\n",
       "      <td>NaN</td>\n",
       "      <td>0.0</td>\n",
       "      <td>https://www.bottle-neck.fr/?post_type=product&amp;...</td>\n",
       "      <td>0.0</td>\n",
       "      <td>product</td>\n",
       "      <td>NaN</td>\n",
       "      <td>0.0</td>\n",
       "    </tr>\n",
       "    <tr>\n",
       "      <th>4</th>\n",
       "      <td>19814</td>\n",
       "      <td>0</td>\n",
       "      <td>0</td>\n",
       "      <td>0</td>\n",
       "      <td>0.0</td>\n",
       "      <td>3.0</td>\n",
       "      <td>taxable</td>\n",
       "      <td>NaN</td>\n",
       "      <td>2.0</td>\n",
       "      <td>2018-02-09 14:01:05</td>\n",
       "      <td>...</td>\n",
       "      <td>pierre-jean-villa-igp-gamine-2018</td>\n",
       "      <td>2020-01-04 16:36:01</td>\n",
       "      <td>2020-01-04 15:36:01</td>\n",
       "      <td>NaN</td>\n",
       "      <td>0.0</td>\n",
       "      <td>https://www.bottle-neck.fr/?post_type=product&amp;...</td>\n",
       "      <td>0.0</td>\n",
       "      <td>product</td>\n",
       "      <td>NaN</td>\n",
       "      <td>0.0</td>\n",
       "    </tr>\n",
       "  </tbody>\n",
       "</table>\n",
       "<p>5 rows × 28 columns</p>\n",
       "</div>"
      ],
      "text/plain": [
       "                   sku  virtual  downloadable  rating_count  average_rating  \\\n",
       "0  bon-cadeau-25-euros        0             0             0             0.0   \n",
       "1                15298        0             0             0             0.0   \n",
       "2                15296        0             0             0             0.0   \n",
       "3                15300        0             0             0             0.0   \n",
       "4                19814        0             0             0             0.0   \n",
       "\n",
       "   total_sales tax_status  tax_class  post_author           post_date  ...  \\\n",
       "0         10.0    taxable        NaN          1.0 2018-06-01 13:53:46  ...   \n",
       "1          6.0    taxable        NaN          2.0 2018-02-08 12:58:52  ...   \n",
       "2          0.0    taxable        NaN          2.0 2018-02-08 13:49:41  ...   \n",
       "3          0.0    taxable        NaN          2.0 2018-02-08 14:08:36  ...   \n",
       "4          3.0    taxable        NaN          2.0 2018-02-09 14:01:05  ...   \n",
       "\n",
       "                                           post_name       post_modified  \\\n",
       "0                             bon-cadeau-de-25-euros 2018-06-01 14:13:57   \n",
       "1        pierre-jean-villa-saint-joseph-preface-2018 2019-12-30 09:30:29   \n",
       "2          pierre-jean-villa-saint-joseph-tilde-2017 2019-12-21 09:00:17   \n",
       "3  pierre-jean-villa-croze-hermitage-accroche-coe... 2020-06-26 18:15:03   \n",
       "4                  pierre-jean-villa-igp-gamine-2018 2020-01-04 16:36:01   \n",
       "\n",
       "    post_modified_gmt post_content_filtered post_parent  \\\n",
       "0 2018-06-01 12:13:57                   NaN         0.0   \n",
       "1 2019-12-30 08:30:29                   NaN         0.0   \n",
       "2 2019-12-21 08:00:17                   NaN         0.0   \n",
       "3 2020-06-26 16:15:03                   NaN         0.0   \n",
       "4 2020-01-04 15:36:01                   NaN         0.0   \n",
       "\n",
       "                                                guid menu_order  post_type  \\\n",
       "0  https://www.bottle-neck.fr/?post_type=product&...        0.0    product   \n",
       "1  https://www.bottle-neck.fr/?post_type=product&...        0.0    product   \n",
       "2  https://www.bottle-neck.fr/?post_type=product&...        0.0    product   \n",
       "3  https://www.bottle-neck.fr/?post_type=product&...        0.0    product   \n",
       "4  https://www.bottle-neck.fr/?post_type=product&...        0.0    product   \n",
       "\n",
       "  post_mime_type comment_count  \n",
       "0            NaN           0.0  \n",
       "1            NaN           0.0  \n",
       "2            NaN           0.0  \n",
       "3            NaN           0.0  \n",
       "4            NaN           0.0  \n",
       "\n",
       "[5 rows x 28 columns]"
      ]
     },
     "execution_count": 6,
     "metadata": {},
     "output_type": "execute_result"
    }
   ],
   "source": [
    "web.head()"
   ]
  },
  {
   "cell_type": "code",
   "execution_count": 7,
   "id": "5513c8f6",
   "metadata": {},
   "outputs": [
    {
     "data": {
      "text/html": [
       "<div>\n",
       "<style scoped>\n",
       "    .dataframe tbody tr th:only-of-type {\n",
       "        vertical-align: middle;\n",
       "    }\n",
       "\n",
       "    .dataframe tbody tr th {\n",
       "        vertical-align: top;\n",
       "    }\n",
       "\n",
       "    .dataframe thead th {\n",
       "        text-align: right;\n",
       "    }\n",
       "</style>\n",
       "<table border=\"1\" class=\"dataframe\">\n",
       "  <thead>\n",
       "    <tr style=\"text-align: right;\">\n",
       "      <th></th>\n",
       "      <th>product_id</th>\n",
       "      <th>id_web</th>\n",
       "    </tr>\n",
       "  </thead>\n",
       "  <tbody>\n",
       "    <tr>\n",
       "      <th>0</th>\n",
       "      <td>3847</td>\n",
       "      <td>15298</td>\n",
       "    </tr>\n",
       "    <tr>\n",
       "      <th>1</th>\n",
       "      <td>3849</td>\n",
       "      <td>15296</td>\n",
       "    </tr>\n",
       "    <tr>\n",
       "      <th>2</th>\n",
       "      <td>3850</td>\n",
       "      <td>15300</td>\n",
       "    </tr>\n",
       "    <tr>\n",
       "      <th>3</th>\n",
       "      <td>4032</td>\n",
       "      <td>19814</td>\n",
       "    </tr>\n",
       "    <tr>\n",
       "      <th>4</th>\n",
       "      <td>4039</td>\n",
       "      <td>19815</td>\n",
       "    </tr>\n",
       "  </tbody>\n",
       "</table>\n",
       "</div>"
      ],
      "text/plain": [
       "   product_id id_web\n",
       "0        3847  15298\n",
       "1        3849  15296\n",
       "2        3850  15300\n",
       "3        4032  19814\n",
       "4        4039  19815"
      ]
     },
     "execution_count": 7,
     "metadata": {},
     "output_type": "execute_result"
    }
   ],
   "source": [
    "liaison.head()"
   ]
  },
  {
   "cell_type": "markdown",
   "id": "0f5b099f",
   "metadata": {},
   "source": [
    "* Renommer une colonne d'un dataframe"
   ]
  },
  {
   "cell_type": "code",
   "execution_count": 8,
   "id": "23b164c6",
   "metadata": {},
   "outputs": [],
   "source": [
    "liaison.rename(columns={\"id_web\":'sku'},inplace=True)"
   ]
  },
  {
   "cell_type": "markdown",
   "id": "00b72d92",
   "metadata": {},
   "source": [
    "## Vérification et Analyse des clés"
   ]
  },
  {
   "cell_type": "markdown",
   "id": "3ed25361",
   "metadata": {},
   "source": [
    "* Vérification du nombre de clés uniques"
   ]
  },
  {
   "cell_type": "code",
   "execution_count": 9,
   "id": "3a066a88",
   "metadata": {},
   "outputs": [
    {
     "data": {
      "text/plain": [
       "825"
      ]
     },
     "execution_count": 9,
     "metadata": {},
     "output_type": "execute_result"
    }
   ],
   "source": [
    "liaison['product_id'].nunique()"
   ]
  },
  {
   "cell_type": "code",
   "execution_count": 10,
   "id": "adb12eb0",
   "metadata": {},
   "outputs": [
    {
     "data": {
      "text/plain": [
       "734"
      ]
     },
     "execution_count": 10,
     "metadata": {},
     "output_type": "execute_result"
    }
   ],
   "source": [
    "liaison['sku'].nunique()"
   ]
  },
  {
   "cell_type": "markdown",
   "id": "1273bad8",
   "metadata": {},
   "source": [
    "* Vérification du nombre de valeurs manquantes"
   ]
  },
  {
   "cell_type": "code",
   "execution_count": 11,
   "id": "ae2cca87",
   "metadata": {},
   "outputs": [
    {
     "data": {
      "text/plain": [
       "91"
      ]
     },
     "execution_count": 11,
     "metadata": {},
     "output_type": "execute_result"
    }
   ],
   "source": [
    "liaison['sku'].isnull().sum()"
   ]
  },
  {
   "cell_type": "markdown",
   "id": "8eedd2f3",
   "metadata": {},
   "source": [
    "* Affichage du nombre de lignes dans le dataframe"
   ]
  },
  {
   "cell_type": "code",
   "execution_count": 12,
   "id": "70f7fbd4",
   "metadata": {},
   "outputs": [
    {
     "data": {
      "text/plain": [
       "825"
      ]
     },
     "execution_count": 12,
     "metadata": {},
     "output_type": "execute_result"
    }
   ],
   "source": [
    "len(liaison)"
   ]
  },
  {
   "cell_type": "markdown",
   "id": "b05cd391",
   "metadata": {},
   "source": [
    "* Vérification du nobre de clés uniques"
   ]
  },
  {
   "cell_type": "code",
   "execution_count": 13,
   "id": "0cdf024f",
   "metadata": {},
   "outputs": [
    {
     "data": {
      "text/plain": [
       "825"
      ]
     },
     "execution_count": 13,
     "metadata": {},
     "output_type": "execute_result"
    }
   ],
   "source": [
    "erp['product_id'].nunique()"
   ]
  },
  {
   "cell_type": "markdown",
   "id": "e59f32a5",
   "metadata": {},
   "source": [
    "* Affichage du nombre de valeurs manquantes"
   ]
  },
  {
   "cell_type": "code",
   "execution_count": 14,
   "id": "bc92effe",
   "metadata": {},
   "outputs": [
    {
     "data": {
      "text/plain": [
       "0"
      ]
     },
     "execution_count": 14,
     "metadata": {},
     "output_type": "execute_result"
    }
   ],
   "source": [
    "erp['product_id'].isnull().sum()"
   ]
  },
  {
   "cell_type": "markdown",
   "id": "2667eeaf",
   "metadata": {},
   "source": [
    "* Affichage du nombre de lignes dans le dataframe"
   ]
  },
  {
   "cell_type": "code",
   "execution_count": 15,
   "id": "4f6167ef",
   "metadata": {},
   "outputs": [
    {
     "data": {
      "text/plain": [
       "825"
      ]
     },
     "execution_count": 15,
     "metadata": {},
     "output_type": "execute_result"
    }
   ],
   "source": [
    "len(erp)"
   ]
  },
  {
   "cell_type": "markdown",
   "id": "36bfb462",
   "metadata": {},
   "source": [
    "* Affichage du nombre de clés uniques"
   ]
  },
  {
   "cell_type": "code",
   "execution_count": 16,
   "id": "a14d6dae",
   "metadata": {},
   "outputs": [
    {
     "data": {
      "text/plain": [
       "714"
      ]
     },
     "execution_count": 16,
     "metadata": {},
     "output_type": "execute_result"
    }
   ],
   "source": [
    "web['sku'].nunique()"
   ]
  },
  {
   "cell_type": "markdown",
   "id": "997c9789",
   "metadata": {},
   "source": [
    "* Affichage du nombre de valeurs manquantes"
   ]
  },
  {
   "cell_type": "code",
   "execution_count": 17,
   "id": "1fb7c48d",
   "metadata": {},
   "outputs": [
    {
     "data": {
      "text/plain": [
       "85"
      ]
     },
     "execution_count": 17,
     "metadata": {},
     "output_type": "execute_result"
    }
   ],
   "source": [
    "web['sku'].isnull().sum()"
   ]
  },
  {
   "cell_type": "markdown",
   "id": "e1b447c1",
   "metadata": {},
   "source": [
    "* Affichage du nombre de lignes dans le dataframe"
   ]
  },
  {
   "cell_type": "code",
   "execution_count": 18,
   "id": "d0712be1",
   "metadata": {},
   "outputs": [
    {
     "data": {
      "text/plain": [
       "1513"
      ]
     },
     "execution_count": 18,
     "metadata": {},
     "output_type": "execute_result"
    }
   ],
   "source": [
    "len(web)"
   ]
  },
  {
   "cell_type": "markdown",
   "id": "aad96f33",
   "metadata": {},
   "source": [
    "* Vérification du nombre de clés uniques distintes d'un dataframe à un autre pour une même colonne"
   ]
  },
  {
   "cell_type": "code",
   "execution_count": 19,
   "id": "fc383087",
   "metadata": {},
   "outputs": [
    {
     "name": "stdout",
     "output_type": "stream",
     "text": [
      "set()\n",
      "{13577, 14730, 15630, 14360, 15272, 14377, 15529, 14379, 15154, 14648, 12601, 14785, '14680-1', 13771, 15065, 14689, 15586, 15608, 15609, 14715}\n"
     ]
    }
   ],
   "source": [
    "print(set(web['sku'].unique()) - set(liaison['sku'].unique()))\n",
    "print(set(liaison['sku'].unique()) - set(web['sku'].unique()))"
   ]
  },
  {
   "cell_type": "code",
   "execution_count": 20,
   "id": "cf5e5dda",
   "metadata": {},
   "outputs": [
    {
     "name": "stdout",
     "output_type": "stream",
     "text": [
      "set()\n",
      "set()\n"
     ]
    }
   ],
   "source": [
    "print(set(erp['product_id'].unique()) - set(liaison['product_id'].unique()))\n",
    "print(set(liaison['product_id'].unique()) - set(erp['product_id'].unique()))"
   ]
  },
  {
   "cell_type": "markdown",
   "id": "d64621d1",
   "metadata": {},
   "source": [
    "## Requêtes"
   ]
  },
  {
   "cell_type": "markdown",
   "id": "321b0c57",
   "metadata": {},
   "source": [
    "* Création d'un dataframe issu de deux tables"
   ]
  },
  {
   "cell_type": "code",
   "execution_count": 21,
   "id": "ae6b9fc4",
   "metadata": {},
   "outputs": [
    {
     "data": {
      "text/html": [
       "<div>\n",
       "<style scoped>\n",
       "    .dataframe tbody tr th:only-of-type {\n",
       "        vertical-align: middle;\n",
       "    }\n",
       "\n",
       "    .dataframe tbody tr th {\n",
       "        vertical-align: top;\n",
       "    }\n",
       "\n",
       "    .dataframe thead th {\n",
       "        text-align: right;\n",
       "    }\n",
       "</style>\n",
       "<table border=\"1\" class=\"dataframe\">\n",
       "  <thead>\n",
       "    <tr style=\"text-align: right;\">\n",
       "      <th></th>\n",
       "      <th>product_id</th>\n",
       "      <th>sku</th>\n",
       "      <th>virtual</th>\n",
       "      <th>downloadable</th>\n",
       "      <th>rating_count</th>\n",
       "      <th>average_rating</th>\n",
       "      <th>total_sales</th>\n",
       "      <th>tax_status</th>\n",
       "      <th>tax_class</th>\n",
       "      <th>post_author</th>\n",
       "      <th>...</th>\n",
       "      <th>post_name</th>\n",
       "      <th>post_modified</th>\n",
       "      <th>post_modified_gmt</th>\n",
       "      <th>post_content_filtered</th>\n",
       "      <th>post_parent</th>\n",
       "      <th>guid</th>\n",
       "      <th>menu_order</th>\n",
       "      <th>post_type</th>\n",
       "      <th>post_mime_type</th>\n",
       "      <th>comment_count</th>\n",
       "    </tr>\n",
       "  </thead>\n",
       "  <tbody>\n",
       "    <tr>\n",
       "      <th>0</th>\n",
       "      <td>3847</td>\n",
       "      <td>15298</td>\n",
       "      <td>0.0</td>\n",
       "      <td>0.0</td>\n",
       "      <td>0.0</td>\n",
       "      <td>0.0</td>\n",
       "      <td>6.0</td>\n",
       "      <td>taxable</td>\n",
       "      <td>NaN</td>\n",
       "      <td>2.0</td>\n",
       "      <td>...</td>\n",
       "      <td>pierre-jean-villa-saint-joseph-preface-2018</td>\n",
       "      <td>2019-12-30 09:30:29</td>\n",
       "      <td>2019-12-30 08:30:29</td>\n",
       "      <td>NaN</td>\n",
       "      <td>0.0</td>\n",
       "      <td>https://www.bottle-neck.fr/?post_type=product&amp;...</td>\n",
       "      <td>0.0</td>\n",
       "      <td>product</td>\n",
       "      <td>NaN</td>\n",
       "      <td>0.0</td>\n",
       "    </tr>\n",
       "    <tr>\n",
       "      <th>1</th>\n",
       "      <td>3847</td>\n",
       "      <td>15298</td>\n",
       "      <td>0.0</td>\n",
       "      <td>0.0</td>\n",
       "      <td>0.0</td>\n",
       "      <td>0.0</td>\n",
       "      <td>6.0</td>\n",
       "      <td>NaN</td>\n",
       "      <td>NaN</td>\n",
       "      <td>2.0</td>\n",
       "      <td>...</td>\n",
       "      <td>pierre-jean-villa-saint-joseph-preface-2018</td>\n",
       "      <td>2019-12-30 09:30:29</td>\n",
       "      <td>2019-12-30 08:30:29</td>\n",
       "      <td>NaN</td>\n",
       "      <td>0.0</td>\n",
       "      <td>https://www.bottle-neck.fr/wp-content/uploads/...</td>\n",
       "      <td>0.0</td>\n",
       "      <td>attachment</td>\n",
       "      <td>image/jpeg</td>\n",
       "      <td>0.0</td>\n",
       "    </tr>\n",
       "    <tr>\n",
       "      <th>2</th>\n",
       "      <td>3849</td>\n",
       "      <td>15296</td>\n",
       "      <td>0.0</td>\n",
       "      <td>0.0</td>\n",
       "      <td>0.0</td>\n",
       "      <td>0.0</td>\n",
       "      <td>0.0</td>\n",
       "      <td>taxable</td>\n",
       "      <td>NaN</td>\n",
       "      <td>2.0</td>\n",
       "      <td>...</td>\n",
       "      <td>pierre-jean-villa-saint-joseph-tilde-2017</td>\n",
       "      <td>2019-12-21 09:00:17</td>\n",
       "      <td>2019-12-21 08:00:17</td>\n",
       "      <td>NaN</td>\n",
       "      <td>0.0</td>\n",
       "      <td>https://www.bottle-neck.fr/?post_type=product&amp;...</td>\n",
       "      <td>0.0</td>\n",
       "      <td>product</td>\n",
       "      <td>NaN</td>\n",
       "      <td>0.0</td>\n",
       "    </tr>\n",
       "    <tr>\n",
       "      <th>3</th>\n",
       "      <td>3849</td>\n",
       "      <td>15296</td>\n",
       "      <td>0.0</td>\n",
       "      <td>0.0</td>\n",
       "      <td>0.0</td>\n",
       "      <td>0.0</td>\n",
       "      <td>0.0</td>\n",
       "      <td>NaN</td>\n",
       "      <td>NaN</td>\n",
       "      <td>2.0</td>\n",
       "      <td>...</td>\n",
       "      <td>pierre-jean-villa-saint-joseph-tilde-2017</td>\n",
       "      <td>2019-12-21 09:00:17</td>\n",
       "      <td>2019-12-21 08:00:17</td>\n",
       "      <td>NaN</td>\n",
       "      <td>0.0</td>\n",
       "      <td>https://www.bottle-neck.fr/wp-content/uploads/...</td>\n",
       "      <td>0.0</td>\n",
       "      <td>attachment</td>\n",
       "      <td>image/jpeg</td>\n",
       "      <td>0.0</td>\n",
       "    </tr>\n",
       "    <tr>\n",
       "      <th>4</th>\n",
       "      <td>3850</td>\n",
       "      <td>15300</td>\n",
       "      <td>0.0</td>\n",
       "      <td>0.0</td>\n",
       "      <td>0.0</td>\n",
       "      <td>0.0</td>\n",
       "      <td>0.0</td>\n",
       "      <td>taxable</td>\n",
       "      <td>NaN</td>\n",
       "      <td>2.0</td>\n",
       "      <td>...</td>\n",
       "      <td>pierre-jean-villa-croze-hermitage-accroche-coe...</td>\n",
       "      <td>2020-06-26 18:15:03</td>\n",
       "      <td>2020-06-26 16:15:03</td>\n",
       "      <td>NaN</td>\n",
       "      <td>0.0</td>\n",
       "      <td>https://www.bottle-neck.fr/?post_type=product&amp;...</td>\n",
       "      <td>0.0</td>\n",
       "      <td>product</td>\n",
       "      <td>NaN</td>\n",
       "      <td>0.0</td>\n",
       "    </tr>\n",
       "  </tbody>\n",
       "</table>\n",
       "<p>5 rows × 29 columns</p>\n",
       "</div>"
      ],
      "text/plain": [
       "   product_id    sku  virtual  downloadable  rating_count  average_rating  \\\n",
       "0        3847  15298      0.0           0.0           0.0             0.0   \n",
       "1        3847  15298      0.0           0.0           0.0             0.0   \n",
       "2        3849  15296      0.0           0.0           0.0             0.0   \n",
       "3        3849  15296      0.0           0.0           0.0             0.0   \n",
       "4        3850  15300      0.0           0.0           0.0             0.0   \n",
       "\n",
       "   total_sales tax_status  tax_class  post_author  ...  \\\n",
       "0          6.0    taxable        NaN          2.0  ...   \n",
       "1          6.0        NaN        NaN          2.0  ...   \n",
       "2          0.0    taxable        NaN          2.0  ...   \n",
       "3          0.0        NaN        NaN          2.0  ...   \n",
       "4          0.0    taxable        NaN          2.0  ...   \n",
       "\n",
       "                                           post_name       post_modified  \\\n",
       "0        pierre-jean-villa-saint-joseph-preface-2018 2019-12-30 09:30:29   \n",
       "1        pierre-jean-villa-saint-joseph-preface-2018 2019-12-30 09:30:29   \n",
       "2          pierre-jean-villa-saint-joseph-tilde-2017 2019-12-21 09:00:17   \n",
       "3          pierre-jean-villa-saint-joseph-tilde-2017 2019-12-21 09:00:17   \n",
       "4  pierre-jean-villa-croze-hermitage-accroche-coe... 2020-06-26 18:15:03   \n",
       "\n",
       "    post_modified_gmt post_content_filtered post_parent  \\\n",
       "0 2019-12-30 08:30:29                   NaN         0.0   \n",
       "1 2019-12-30 08:30:29                   NaN         0.0   \n",
       "2 2019-12-21 08:00:17                   NaN         0.0   \n",
       "3 2019-12-21 08:00:17                   NaN         0.0   \n",
       "4 2020-06-26 16:15:03                   NaN         0.0   \n",
       "\n",
       "                                                guid menu_order   post_type  \\\n",
       "0  https://www.bottle-neck.fr/?post_type=product&...        0.0     product   \n",
       "1  https://www.bottle-neck.fr/wp-content/uploads/...        0.0  attachment   \n",
       "2  https://www.bottle-neck.fr/?post_type=product&...        0.0     product   \n",
       "3  https://www.bottle-neck.fr/wp-content/uploads/...        0.0  attachment   \n",
       "4  https://www.bottle-neck.fr/?post_type=product&...        0.0     product   \n",
       "\n",
       "   post_mime_type comment_count  \n",
       "0             NaN           0.0  \n",
       "1      image/jpeg           0.0  \n",
       "2             NaN           0.0  \n",
       "3      image/jpeg           0.0  \n",
       "4             NaN           0.0  \n",
       "\n",
       "[5 rows x 29 columns]"
      ]
     },
     "execution_count": 21,
     "metadata": {},
     "output_type": "execute_result"
    }
   ],
   "source": [
    "data = liaison.merge(web, how=\"outer\")\n",
    "data.head()"
   ]
  },
  {
   "cell_type": "code",
   "execution_count": 22,
   "id": "1b1e1082",
   "metadata": {},
   "outputs": [
    {
     "data": {
      "text/html": [
       "<div>\n",
       "<style scoped>\n",
       "    .dataframe tbody tr th:only-of-type {\n",
       "        vertical-align: middle;\n",
       "    }\n",
       "\n",
       "    .dataframe tbody tr th {\n",
       "        vertical-align: top;\n",
       "    }\n",
       "\n",
       "    .dataframe thead th {\n",
       "        text-align: right;\n",
       "    }\n",
       "</style>\n",
       "<table border=\"1\" class=\"dataframe\">\n",
       "  <thead>\n",
       "    <tr style=\"text-align: right;\">\n",
       "      <th></th>\n",
       "      <th>product_id</th>\n",
       "      <th>sku</th>\n",
       "      <th>virtual</th>\n",
       "      <th>downloadable</th>\n",
       "      <th>rating_count</th>\n",
       "      <th>average_rating</th>\n",
       "      <th>total_sales</th>\n",
       "      <th>tax_status</th>\n",
       "      <th>tax_class</th>\n",
       "      <th>post_author</th>\n",
       "      <th>...</th>\n",
       "      <th>post_name</th>\n",
       "      <th>post_modified</th>\n",
       "      <th>post_modified_gmt</th>\n",
       "      <th>post_content_filtered</th>\n",
       "      <th>post_parent</th>\n",
       "      <th>guid</th>\n",
       "      <th>menu_order</th>\n",
       "      <th>post_type</th>\n",
       "      <th>post_mime_type</th>\n",
       "      <th>comment_count</th>\n",
       "    </tr>\n",
       "  </thead>\n",
       "  <tbody>\n",
       "    <tr>\n",
       "      <th>0</th>\n",
       "      <td>3847</td>\n",
       "      <td>15298</td>\n",
       "      <td>0.0</td>\n",
       "      <td>0.0</td>\n",
       "      <td>0.0</td>\n",
       "      <td>0.0</td>\n",
       "      <td>6.0</td>\n",
       "      <td>taxable</td>\n",
       "      <td>NaN</td>\n",
       "      <td>2.0</td>\n",
       "      <td>...</td>\n",
       "      <td>pierre-jean-villa-saint-joseph-preface-2018</td>\n",
       "      <td>2019-12-30 09:30:29</td>\n",
       "      <td>2019-12-30 08:30:29</td>\n",
       "      <td>NaN</td>\n",
       "      <td>0.0</td>\n",
       "      <td>https://www.bottle-neck.fr/?post_type=product&amp;...</td>\n",
       "      <td>0.0</td>\n",
       "      <td>product</td>\n",
       "      <td>NaN</td>\n",
       "      <td>0.0</td>\n",
       "    </tr>\n",
       "    <tr>\n",
       "      <th>2</th>\n",
       "      <td>3849</td>\n",
       "      <td>15296</td>\n",
       "      <td>0.0</td>\n",
       "      <td>0.0</td>\n",
       "      <td>0.0</td>\n",
       "      <td>0.0</td>\n",
       "      <td>0.0</td>\n",
       "      <td>taxable</td>\n",
       "      <td>NaN</td>\n",
       "      <td>2.0</td>\n",
       "      <td>...</td>\n",
       "      <td>pierre-jean-villa-saint-joseph-tilde-2017</td>\n",
       "      <td>2019-12-21 09:00:17</td>\n",
       "      <td>2019-12-21 08:00:17</td>\n",
       "      <td>NaN</td>\n",
       "      <td>0.0</td>\n",
       "      <td>https://www.bottle-neck.fr/?post_type=product&amp;...</td>\n",
       "      <td>0.0</td>\n",
       "      <td>product</td>\n",
       "      <td>NaN</td>\n",
       "      <td>0.0</td>\n",
       "    </tr>\n",
       "    <tr>\n",
       "      <th>4</th>\n",
       "      <td>3850</td>\n",
       "      <td>15300</td>\n",
       "      <td>0.0</td>\n",
       "      <td>0.0</td>\n",
       "      <td>0.0</td>\n",
       "      <td>0.0</td>\n",
       "      <td>0.0</td>\n",
       "      <td>taxable</td>\n",
       "      <td>NaN</td>\n",
       "      <td>2.0</td>\n",
       "      <td>...</td>\n",
       "      <td>pierre-jean-villa-croze-hermitage-accroche-coe...</td>\n",
       "      <td>2020-06-26 18:15:03</td>\n",
       "      <td>2020-06-26 16:15:03</td>\n",
       "      <td>NaN</td>\n",
       "      <td>0.0</td>\n",
       "      <td>https://www.bottle-neck.fr/?post_type=product&amp;...</td>\n",
       "      <td>0.0</td>\n",
       "      <td>product</td>\n",
       "      <td>NaN</td>\n",
       "      <td>0.0</td>\n",
       "    </tr>\n",
       "    <tr>\n",
       "      <th>6</th>\n",
       "      <td>4032</td>\n",
       "      <td>19814</td>\n",
       "      <td>0.0</td>\n",
       "      <td>0.0</td>\n",
       "      <td>0.0</td>\n",
       "      <td>0.0</td>\n",
       "      <td>3.0</td>\n",
       "      <td>taxable</td>\n",
       "      <td>NaN</td>\n",
       "      <td>2.0</td>\n",
       "      <td>...</td>\n",
       "      <td>pierre-jean-villa-igp-gamine-2018</td>\n",
       "      <td>2020-01-04 16:36:01</td>\n",
       "      <td>2020-01-04 15:36:01</td>\n",
       "      <td>NaN</td>\n",
       "      <td>0.0</td>\n",
       "      <td>https://www.bottle-neck.fr/?post_type=product&amp;...</td>\n",
       "      <td>0.0</td>\n",
       "      <td>product</td>\n",
       "      <td>NaN</td>\n",
       "      <td>0.0</td>\n",
       "    </tr>\n",
       "    <tr>\n",
       "      <th>8</th>\n",
       "      <td>4039</td>\n",
       "      <td>19815</td>\n",
       "      <td>0.0</td>\n",
       "      <td>0.0</td>\n",
       "      <td>0.0</td>\n",
       "      <td>0.0</td>\n",
       "      <td>0.0</td>\n",
       "      <td>taxable</td>\n",
       "      <td>NaN</td>\n",
       "      <td>2.0</td>\n",
       "      <td>...</td>\n",
       "      <td>pierre-jean-villa-cote-rotie-carmina-2017</td>\n",
       "      <td>2020-01-04 16:36:10</td>\n",
       "      <td>2020-01-04 15:36:10</td>\n",
       "      <td>NaN</td>\n",
       "      <td>0.0</td>\n",
       "      <td>https://www.bottle-neck.fr/?post_type=product&amp;...</td>\n",
       "      <td>0.0</td>\n",
       "      <td>product</td>\n",
       "      <td>NaN</td>\n",
       "      <td>0.0</td>\n",
       "    </tr>\n",
       "    <tr>\n",
       "      <th>...</th>\n",
       "      <td>...</td>\n",
       "      <td>...</td>\n",
       "      <td>...</td>\n",
       "      <td>...</td>\n",
       "      <td>...</td>\n",
       "      <td>...</td>\n",
       "      <td>...</td>\n",
       "      <td>...</td>\n",
       "      <td>...</td>\n",
       "      <td>...</td>\n",
       "      <td>...</td>\n",
       "      <td>...</td>\n",
       "      <td>...</td>\n",
       "      <td>...</td>\n",
       "      <td>...</td>\n",
       "      <td>...</td>\n",
       "      <td>...</td>\n",
       "      <td>...</td>\n",
       "      <td>...</td>\n",
       "      <td>...</td>\n",
       "      <td>...</td>\n",
       "    </tr>\n",
       "    <tr>\n",
       "      <th>9172</th>\n",
       "      <td>6930</td>\n",
       "      <td>16135</td>\n",
       "      <td>0.0</td>\n",
       "      <td>0.0</td>\n",
       "      <td>0.0</td>\n",
       "      <td>0.0</td>\n",
       "      <td>5.0</td>\n",
       "      <td>taxable</td>\n",
       "      <td>NaN</td>\n",
       "      <td>2.0</td>\n",
       "      <td>...</td>\n",
       "      <td>mouthes-le-bihan-aime-chai-2015</td>\n",
       "      <td>2020-08-26 17:35:03</td>\n",
       "      <td>2020-08-26 15:35:03</td>\n",
       "      <td>NaN</td>\n",
       "      <td>0.0</td>\n",
       "      <td>https://www.bottle-neck.fr/?post_type=product&amp;...</td>\n",
       "      <td>0.0</td>\n",
       "      <td>product</td>\n",
       "      <td>NaN</td>\n",
       "      <td>0.0</td>\n",
       "    </tr>\n",
       "    <tr>\n",
       "      <th>9174</th>\n",
       "      <td>7023</td>\n",
       "      <td>15891</td>\n",
       "      <td>0.0</td>\n",
       "      <td>0.0</td>\n",
       "      <td>0.0</td>\n",
       "      <td>0.0</td>\n",
       "      <td>0.0</td>\n",
       "      <td>taxable</td>\n",
       "      <td>NaN</td>\n",
       "      <td>2.0</td>\n",
       "      <td>...</td>\n",
       "      <td>camin-larredya-jurancon-sec-la-virada-2018</td>\n",
       "      <td>2020-08-26 17:35:02</td>\n",
       "      <td>2020-08-26 15:35:02</td>\n",
       "      <td>NaN</td>\n",
       "      <td>0.0</td>\n",
       "      <td>https://www.bottle-neck.fr/?post_type=product&amp;...</td>\n",
       "      <td>0.0</td>\n",
       "      <td>product</td>\n",
       "      <td>NaN</td>\n",
       "      <td>0.0</td>\n",
       "    </tr>\n",
       "    <tr>\n",
       "      <th>9176</th>\n",
       "      <td>7025</td>\n",
       "      <td>15887</td>\n",
       "      <td>0.0</td>\n",
       "      <td>0.0</td>\n",
       "      <td>0.0</td>\n",
       "      <td>0.0</td>\n",
       "      <td>0.0</td>\n",
       "      <td>taxable</td>\n",
       "      <td>NaN</td>\n",
       "      <td>2.0</td>\n",
       "      <td>...</td>\n",
       "      <td>jamet-cote-rotie-fructus-voluptas-2018</td>\n",
       "      <td>2020-08-14 18:15:03</td>\n",
       "      <td>2020-08-14 16:15:03</td>\n",
       "      <td>NaN</td>\n",
       "      <td>0.0</td>\n",
       "      <td>https://www.bottle-neck.fr/?post_type=product&amp;...</td>\n",
       "      <td>0.0</td>\n",
       "      <td>product</td>\n",
       "      <td>NaN</td>\n",
       "      <td>0.0</td>\n",
       "    </tr>\n",
       "    <tr>\n",
       "      <th>9178</th>\n",
       "      <td>7247</td>\n",
       "      <td>13127-1</td>\n",
       "      <td>0.0</td>\n",
       "      <td>0.0</td>\n",
       "      <td>0.0</td>\n",
       "      <td>0.0</td>\n",
       "      <td>0.0</td>\n",
       "      <td>taxable</td>\n",
       "      <td>NaN</td>\n",
       "      <td>2.0</td>\n",
       "      <td>...</td>\n",
       "      <td>clos-du-mont-olivet-chateauneuf-du-pape-2007-2</td>\n",
       "      <td>2020-07-20 17:09:06</td>\n",
       "      <td>2020-07-20 15:09:06</td>\n",
       "      <td>NaN</td>\n",
       "      <td>0.0</td>\n",
       "      <td>https://www.bottle-neck.fr/?post_type=product&amp;...</td>\n",
       "      <td>0.0</td>\n",
       "      <td>product</td>\n",
       "      <td>NaN</td>\n",
       "      <td>0.0</td>\n",
       "    </tr>\n",
       "    <tr>\n",
       "      <th>9181</th>\n",
       "      <td>7338</td>\n",
       "      <td>16230</td>\n",
       "      <td>0.0</td>\n",
       "      <td>0.0</td>\n",
       "      <td>0.0</td>\n",
       "      <td>0.0</td>\n",
       "      <td>0.0</td>\n",
       "      <td>taxable</td>\n",
       "      <td>NaN</td>\n",
       "      <td>2.0</td>\n",
       "      <td>...</td>\n",
       "      <td>domaine-saint-nicolas-fiefs-vendeens-blanc-les...</td>\n",
       "      <td>2020-08-13 10:45:03</td>\n",
       "      <td>2020-08-13 08:45:03</td>\n",
       "      <td>NaN</td>\n",
       "      <td>0.0</td>\n",
       "      <td>https://www.bottle-neck.fr/?post_type=product&amp;...</td>\n",
       "      <td>0.0</td>\n",
       "      <td>product</td>\n",
       "      <td>NaN</td>\n",
       "      <td>0.0</td>\n",
       "    </tr>\n",
       "  </tbody>\n",
       "</table>\n",
       "<p>896 rows × 29 columns</p>\n",
       "</div>"
      ],
      "text/plain": [
       "      product_id      sku  virtual  downloadable  rating_count  \\\n",
       "0           3847    15298      0.0           0.0           0.0   \n",
       "2           3849    15296      0.0           0.0           0.0   \n",
       "4           3850    15300      0.0           0.0           0.0   \n",
       "6           4032    19814      0.0           0.0           0.0   \n",
       "8           4039    19815      0.0           0.0           0.0   \n",
       "...          ...      ...      ...           ...           ...   \n",
       "9172        6930    16135      0.0           0.0           0.0   \n",
       "9174        7023    15891      0.0           0.0           0.0   \n",
       "9176        7025    15887      0.0           0.0           0.0   \n",
       "9178        7247  13127-1      0.0           0.0           0.0   \n",
       "9181        7338    16230      0.0           0.0           0.0   \n",
       "\n",
       "      average_rating  total_sales tax_status  tax_class  post_author  ...  \\\n",
       "0                0.0          6.0    taxable        NaN          2.0  ...   \n",
       "2                0.0          0.0    taxable        NaN          2.0  ...   \n",
       "4                0.0          0.0    taxable        NaN          2.0  ...   \n",
       "6                0.0          3.0    taxable        NaN          2.0  ...   \n",
       "8                0.0          0.0    taxable        NaN          2.0  ...   \n",
       "...              ...          ...        ...        ...          ...  ...   \n",
       "9172             0.0          5.0    taxable        NaN          2.0  ...   \n",
       "9174             0.0          0.0    taxable        NaN          2.0  ...   \n",
       "9176             0.0          0.0    taxable        NaN          2.0  ...   \n",
       "9178             0.0          0.0    taxable        NaN          2.0  ...   \n",
       "9181             0.0          0.0    taxable        NaN          2.0  ...   \n",
       "\n",
       "                                              post_name       post_modified  \\\n",
       "0           pierre-jean-villa-saint-joseph-preface-2018 2019-12-30 09:30:29   \n",
       "2             pierre-jean-villa-saint-joseph-tilde-2017 2019-12-21 09:00:17   \n",
       "4     pierre-jean-villa-croze-hermitage-accroche-coe... 2020-06-26 18:15:03   \n",
       "6                     pierre-jean-villa-igp-gamine-2018 2020-01-04 16:36:01   \n",
       "8             pierre-jean-villa-cote-rotie-carmina-2017 2020-01-04 16:36:10   \n",
       "...                                                 ...                 ...   \n",
       "9172                    mouthes-le-bihan-aime-chai-2015 2020-08-26 17:35:03   \n",
       "9174         camin-larredya-jurancon-sec-la-virada-2018 2020-08-26 17:35:02   \n",
       "9176             jamet-cote-rotie-fructus-voluptas-2018 2020-08-14 18:15:03   \n",
       "9178     clos-du-mont-olivet-chateauneuf-du-pape-2007-2 2020-07-20 17:09:06   \n",
       "9181  domaine-saint-nicolas-fiefs-vendeens-blanc-les... 2020-08-13 10:45:03   \n",
       "\n",
       "       post_modified_gmt post_content_filtered post_parent  \\\n",
       "0    2019-12-30 08:30:29                   NaN         0.0   \n",
       "2    2019-12-21 08:00:17                   NaN         0.0   \n",
       "4    2020-06-26 16:15:03                   NaN         0.0   \n",
       "6    2020-01-04 15:36:01                   NaN         0.0   \n",
       "8    2020-01-04 15:36:10                   NaN         0.0   \n",
       "...                  ...                   ...         ...   \n",
       "9172 2020-08-26 15:35:03                   NaN         0.0   \n",
       "9174 2020-08-26 15:35:02                   NaN         0.0   \n",
       "9176 2020-08-14 16:15:03                   NaN         0.0   \n",
       "9178 2020-07-20 15:09:06                   NaN         0.0   \n",
       "9181 2020-08-13 08:45:03                   NaN         0.0   \n",
       "\n",
       "                                                   guid menu_order post_type  \\\n",
       "0     https://www.bottle-neck.fr/?post_type=product&...        0.0   product   \n",
       "2     https://www.bottle-neck.fr/?post_type=product&...        0.0   product   \n",
       "4     https://www.bottle-neck.fr/?post_type=product&...        0.0   product   \n",
       "6     https://www.bottle-neck.fr/?post_type=product&...        0.0   product   \n",
       "8     https://www.bottle-neck.fr/?post_type=product&...        0.0   product   \n",
       "...                                                 ...        ...       ...   \n",
       "9172  https://www.bottle-neck.fr/?post_type=product&...        0.0   product   \n",
       "9174  https://www.bottle-neck.fr/?post_type=product&...        0.0   product   \n",
       "9176  https://www.bottle-neck.fr/?post_type=product&...        0.0   product   \n",
       "9178  https://www.bottle-neck.fr/?post_type=product&...        0.0   product   \n",
       "9181  https://www.bottle-neck.fr/?post_type=product&...        0.0   product   \n",
       "\n",
       "      post_mime_type comment_count  \n",
       "0                NaN           0.0  \n",
       "2                NaN           0.0  \n",
       "4                NaN           0.0  \n",
       "6                NaN           0.0  \n",
       "8                NaN           0.0  \n",
       "...              ...           ...  \n",
       "9172             NaN           0.0  \n",
       "9174             NaN           0.0  \n",
       "9176             NaN           0.0  \n",
       "9178             NaN           0.0  \n",
       "9181             NaN           0.0  \n",
       "\n",
       "[896 rows x 29 columns]"
      ]
     },
     "execution_count": 22,
     "metadata": {},
     "output_type": "execute_result"
    }
   ],
   "source": [
    "data = data[data['post_type'] == 'product']\n",
    "data"
   ]
  },
  {
   "cell_type": "markdown",
   "id": "8f8333fe",
   "metadata": {},
   "source": [
    "* Création d'un dataframe issu d'un dataframe et une table"
   ]
  },
  {
   "cell_type": "code",
   "execution_count": 23,
   "id": "d9a6ab3a",
   "metadata": {},
   "outputs": [
    {
     "data": {
      "text/html": [
       "<div>\n",
       "<style scoped>\n",
       "    .dataframe tbody tr th:only-of-type {\n",
       "        vertical-align: middle;\n",
       "    }\n",
       "\n",
       "    .dataframe tbody tr th {\n",
       "        vertical-align: top;\n",
       "    }\n",
       "\n",
       "    .dataframe thead th {\n",
       "        text-align: right;\n",
       "    }\n",
       "</style>\n",
       "<table border=\"1\" class=\"dataframe\">\n",
       "  <thead>\n",
       "    <tr style=\"text-align: right;\">\n",
       "      <th></th>\n",
       "      <th>product_id</th>\n",
       "      <th>sku</th>\n",
       "      <th>virtual</th>\n",
       "      <th>downloadable</th>\n",
       "      <th>rating_count</th>\n",
       "      <th>average_rating</th>\n",
       "      <th>total_sales</th>\n",
       "      <th>tax_status</th>\n",
       "      <th>tax_class</th>\n",
       "      <th>post_author</th>\n",
       "      <th>...</th>\n",
       "      <th>post_parent</th>\n",
       "      <th>guid</th>\n",
       "      <th>menu_order</th>\n",
       "      <th>post_type</th>\n",
       "      <th>post_mime_type</th>\n",
       "      <th>comment_count</th>\n",
       "      <th>onsale_web</th>\n",
       "      <th>price</th>\n",
       "      <th>stock_quantity</th>\n",
       "      <th>stock_status</th>\n",
       "    </tr>\n",
       "  </thead>\n",
       "  <tbody>\n",
       "    <tr>\n",
       "      <th>0</th>\n",
       "      <td>3847</td>\n",
       "      <td>15298</td>\n",
       "      <td>0.0</td>\n",
       "      <td>0.0</td>\n",
       "      <td>0.0</td>\n",
       "      <td>0.0</td>\n",
       "      <td>6.0</td>\n",
       "      <td>taxable</td>\n",
       "      <td>NaN</td>\n",
       "      <td>2.0</td>\n",
       "      <td>...</td>\n",
       "      <td>0.0</td>\n",
       "      <td>https://www.bottle-neck.fr/?post_type=product&amp;...</td>\n",
       "      <td>0.0</td>\n",
       "      <td>product</td>\n",
       "      <td>NaN</td>\n",
       "      <td>0.0</td>\n",
       "      <td>1</td>\n",
       "      <td>24.2</td>\n",
       "      <td>0</td>\n",
       "      <td>outofstock</td>\n",
       "    </tr>\n",
       "    <tr>\n",
       "      <th>1</th>\n",
       "      <td>3849</td>\n",
       "      <td>15296</td>\n",
       "      <td>0.0</td>\n",
       "      <td>0.0</td>\n",
       "      <td>0.0</td>\n",
       "      <td>0.0</td>\n",
       "      <td>0.0</td>\n",
       "      <td>taxable</td>\n",
       "      <td>NaN</td>\n",
       "      <td>2.0</td>\n",
       "      <td>...</td>\n",
       "      <td>0.0</td>\n",
       "      <td>https://www.bottle-neck.fr/?post_type=product&amp;...</td>\n",
       "      <td>0.0</td>\n",
       "      <td>product</td>\n",
       "      <td>NaN</td>\n",
       "      <td>0.0</td>\n",
       "      <td>1</td>\n",
       "      <td>34.3</td>\n",
       "      <td>0</td>\n",
       "      <td>outofstock</td>\n",
       "    </tr>\n",
       "    <tr>\n",
       "      <th>2</th>\n",
       "      <td>3850</td>\n",
       "      <td>15300</td>\n",
       "      <td>0.0</td>\n",
       "      <td>0.0</td>\n",
       "      <td>0.0</td>\n",
       "      <td>0.0</td>\n",
       "      <td>0.0</td>\n",
       "      <td>taxable</td>\n",
       "      <td>NaN</td>\n",
       "      <td>2.0</td>\n",
       "      <td>...</td>\n",
       "      <td>0.0</td>\n",
       "      <td>https://www.bottle-neck.fr/?post_type=product&amp;...</td>\n",
       "      <td>0.0</td>\n",
       "      <td>product</td>\n",
       "      <td>NaN</td>\n",
       "      <td>0.0</td>\n",
       "      <td>1</td>\n",
       "      <td>20.8</td>\n",
       "      <td>0</td>\n",
       "      <td>outofstock</td>\n",
       "    </tr>\n",
       "    <tr>\n",
       "      <th>3</th>\n",
       "      <td>4032</td>\n",
       "      <td>19814</td>\n",
       "      <td>0.0</td>\n",
       "      <td>0.0</td>\n",
       "      <td>0.0</td>\n",
       "      <td>0.0</td>\n",
       "      <td>3.0</td>\n",
       "      <td>taxable</td>\n",
       "      <td>NaN</td>\n",
       "      <td>2.0</td>\n",
       "      <td>...</td>\n",
       "      <td>0.0</td>\n",
       "      <td>https://www.bottle-neck.fr/?post_type=product&amp;...</td>\n",
       "      <td>0.0</td>\n",
       "      <td>product</td>\n",
       "      <td>NaN</td>\n",
       "      <td>0.0</td>\n",
       "      <td>1</td>\n",
       "      <td>14.1</td>\n",
       "      <td>0</td>\n",
       "      <td>outofstock</td>\n",
       "    </tr>\n",
       "    <tr>\n",
       "      <th>4</th>\n",
       "      <td>4039</td>\n",
       "      <td>19815</td>\n",
       "      <td>0.0</td>\n",
       "      <td>0.0</td>\n",
       "      <td>0.0</td>\n",
       "      <td>0.0</td>\n",
       "      <td>0.0</td>\n",
       "      <td>taxable</td>\n",
       "      <td>NaN</td>\n",
       "      <td>2.0</td>\n",
       "      <td>...</td>\n",
       "      <td>0.0</td>\n",
       "      <td>https://www.bottle-neck.fr/?post_type=product&amp;...</td>\n",
       "      <td>0.0</td>\n",
       "      <td>product</td>\n",
       "      <td>NaN</td>\n",
       "      <td>0.0</td>\n",
       "      <td>1</td>\n",
       "      <td>46.0</td>\n",
       "      <td>0</td>\n",
       "      <td>outofstock</td>\n",
       "    </tr>\n",
       "  </tbody>\n",
       "</table>\n",
       "<p>5 rows × 33 columns</p>\n",
       "</div>"
      ],
      "text/plain": [
       "   product_id    sku  virtual  downloadable  rating_count  average_rating  \\\n",
       "0        3847  15298      0.0           0.0           0.0             0.0   \n",
       "1        3849  15296      0.0           0.0           0.0             0.0   \n",
       "2        3850  15300      0.0           0.0           0.0             0.0   \n",
       "3        4032  19814      0.0           0.0           0.0             0.0   \n",
       "4        4039  19815      0.0           0.0           0.0             0.0   \n",
       "\n",
       "   total_sales tax_status  tax_class  post_author  ... post_parent  \\\n",
       "0          6.0    taxable        NaN          2.0  ...         0.0   \n",
       "1          0.0    taxable        NaN          2.0  ...         0.0   \n",
       "2          0.0    taxable        NaN          2.0  ...         0.0   \n",
       "3          3.0    taxable        NaN          2.0  ...         0.0   \n",
       "4          0.0    taxable        NaN          2.0  ...         0.0   \n",
       "\n",
       "                                                guid  menu_order post_type  \\\n",
       "0  https://www.bottle-neck.fr/?post_type=product&...         0.0   product   \n",
       "1  https://www.bottle-neck.fr/?post_type=product&...         0.0   product   \n",
       "2  https://www.bottle-neck.fr/?post_type=product&...         0.0   product   \n",
       "3  https://www.bottle-neck.fr/?post_type=product&...         0.0   product   \n",
       "4  https://www.bottle-neck.fr/?post_type=product&...         0.0   product   \n",
       "\n",
       "  post_mime_type comment_count onsale_web price  stock_quantity stock_status  \n",
       "0            NaN           0.0          1  24.2               0   outofstock  \n",
       "1            NaN           0.0          1  34.3               0   outofstock  \n",
       "2            NaN           0.0          1  20.8               0   outofstock  \n",
       "3            NaN           0.0          1  14.1               0   outofstock  \n",
       "4            NaN           0.0          1  46.0               0   outofstock  \n",
       "\n",
       "[5 rows x 33 columns]"
      ]
     },
     "execution_count": 23,
     "metadata": {},
     "output_type": "execute_result"
    }
   ],
   "source": [
    "newdata = data.merge(erp, how=\"outer\")\n",
    "newdata.head()"
   ]
  },
  {
   "cell_type": "markdown",
   "id": "22313b0a",
   "metadata": {},
   "source": [
    "### Le chiffre d'affaire par produit"
   ]
  },
  {
   "cell_type": "markdown",
   "id": "98cc1af2",
   "metadata": {},
   "source": [
    "* Création d'une colonne 'chiffres d'affaires' à partir du prix à l'unité et le total des ventes"
   ]
  },
  {
   "cell_type": "code",
   "execution_count": 24,
   "id": "c1241af0",
   "metadata": {},
   "outputs": [],
   "source": [
    "newdata['chiffres d\\'affaires'] = newdata['price']* newdata['total_sales']"
   ]
  },
  {
   "cell_type": "markdown",
   "id": "49f08844",
   "metadata": {},
   "source": [
    "* Affichage du chiffres d'affaires par produit en ordre décroissant"
   ]
  },
  {
   "cell_type": "code",
   "execution_count": 25,
   "id": "441bd7c4",
   "metadata": {},
   "outputs": [
    {
     "data": {
      "text/html": [
       "<div>\n",
       "<style scoped>\n",
       "    .dataframe tbody tr th:only-of-type {\n",
       "        vertical-align: middle;\n",
       "    }\n",
       "\n",
       "    .dataframe tbody tr th {\n",
       "        vertical-align: top;\n",
       "    }\n",
       "\n",
       "    .dataframe thead th {\n",
       "        text-align: right;\n",
       "    }\n",
       "</style>\n",
       "<table border=\"1\" class=\"dataframe\">\n",
       "  <thead>\n",
       "    <tr style=\"text-align: right;\">\n",
       "      <th></th>\n",
       "      <th>chiffres d'affaires</th>\n",
       "    </tr>\n",
       "    <tr>\n",
       "      <th>product_id</th>\n",
       "      <th></th>\n",
       "    </tr>\n",
       "  </thead>\n",
       "  <tbody>\n",
       "    <tr>\n",
       "      <th>4334</th>\n",
       "      <td>4704.0</td>\n",
       "    </tr>\n",
       "    <tr>\n",
       "      <th>4144</th>\n",
       "      <td>4263.0</td>\n",
       "    </tr>\n",
       "    <tr>\n",
       "      <th>4402</th>\n",
       "      <td>2288.0</td>\n",
       "    </tr>\n",
       "    <tr>\n",
       "      <th>4142</th>\n",
       "      <td>1590.0</td>\n",
       "    </tr>\n",
       "    <tr>\n",
       "      <th>4141</th>\n",
       "      <td>1560.0</td>\n",
       "    </tr>\n",
       "    <tr>\n",
       "      <th>...</th>\n",
       "      <td>...</td>\n",
       "    </tr>\n",
       "    <tr>\n",
       "      <th>4874</th>\n",
       "      <td>0.0</td>\n",
       "    </tr>\n",
       "    <tr>\n",
       "      <th>4869</th>\n",
       "      <td>0.0</td>\n",
       "    </tr>\n",
       "    <tr>\n",
       "      <th>4864</th>\n",
       "      <td>0.0</td>\n",
       "    </tr>\n",
       "    <tr>\n",
       "      <th>4798</th>\n",
       "      <td>0.0</td>\n",
       "    </tr>\n",
       "    <tr>\n",
       "      <th>7338</th>\n",
       "      <td>0.0</td>\n",
       "    </tr>\n",
       "  </tbody>\n",
       "</table>\n",
       "<p>825 rows × 1 columns</p>\n",
       "</div>"
      ],
      "text/plain": [
       "            chiffres d'affaires\n",
       "product_id                     \n",
       "4334                     4704.0\n",
       "4144                     4263.0\n",
       "4402                     2288.0\n",
       "4142                     1590.0\n",
       "4141                     1560.0\n",
       "...                         ...\n",
       "4874                        0.0\n",
       "4869                        0.0\n",
       "4864                        0.0\n",
       "4798                        0.0\n",
       "7338                        0.0\n",
       "\n",
       "[825 rows x 1 columns]"
      ]
     },
     "execution_count": 25,
     "metadata": {},
     "output_type": "execute_result"
    }
   ],
   "source": [
    "newdata[['product_id','chiffres d\\'affaires']].groupby(by='product_id').sum().sort_values('chiffres d\\'affaires', ascending=False)"
   ]
  },
  {
   "cell_type": "markdown",
   "id": "55e53e60",
   "metadata": {},
   "source": [
    "### Le total du chiffre d'affaires réalisé en ligne"
   ]
  },
  {
   "cell_type": "code",
   "execution_count": 26,
   "id": "266d2752",
   "metadata": {},
   "outputs": [
    {
     "data": {
      "text/plain": [
       "70568.6"
      ]
     },
     "execution_count": 26,
     "metadata": {},
     "output_type": "execute_result"
    }
   ],
   "source": [
    "newdata['chiffres d\\'affaires'].sum()"
   ]
  },
  {
   "cell_type": "markdown",
   "id": "61eb3be5",
   "metadata": {},
   "source": [
    "## Vérification de l'existence d'outliers"
   ]
  },
  {
   "cell_type": "markdown",
   "id": "aaec2640",
   "metadata": {},
   "source": [
    "#### Méthode de l'écart interquartile"
   ]
  },
  {
   "cell_type": "code",
   "execution_count": 27,
   "id": "b93f837a",
   "metadata": {},
   "outputs": [
    {
     "data": {
      "text/plain": [
       "array([14.6, 42. ])"
      ]
     },
     "execution_count": 27,
     "metadata": {},
     "output_type": "execute_result"
    }
   ],
   "source": [
    "np.percentile(erp['price'],[25,75])"
   ]
  },
  {
   "cell_type": "code",
   "execution_count": 28,
   "id": "82afcf1e",
   "metadata": {},
   "outputs": [
    {
     "data": {
      "text/plain": [
       "count    916.000000\n",
       "mean      32.574891\n",
       "std       26.195628\n",
       "min        5.200000\n",
       "25%       15.300000\n",
       "50%       25.500000\n",
       "75%       42.200000\n",
       "max      225.000000\n",
       "Name: price, dtype: float64"
      ]
     },
     "execution_count": 28,
     "metadata": {},
     "output_type": "execute_result"
    }
   ],
   "source": [
    "newdata['price'].describe()"
   ]
  },
  {
   "cell_type": "code",
   "execution_count": 29,
   "id": "2ee3a898",
   "metadata": {},
   "outputs": [
    {
     "name": "stdout",
     "output_type": "stream",
     "text": [
      "27.4\n"
     ]
    }
   ],
   "source": [
    "q1, q3= np.percentile(erp['price'],[25,75])\n",
    "iqr = q3 - q1\n",
    "print(iqr)"
   ]
  },
  {
   "cell_type": "code",
   "execution_count": 30,
   "id": "93b3401e",
   "metadata": {},
   "outputs": [
    {
     "name": "stdout",
     "output_type": "stream",
     "text": [
      "-26.499999999999993\n",
      "83.1\n"
     ]
    }
   ],
   "source": [
    "lower_bound = q1 -(1.5 * iqr) \n",
    "upper_bound = q3 +(1.5 * iqr) \n",
    "print(lower_bound)\n",
    "print(upper_bound)"
   ]
  },
  {
   "cell_type": "code",
   "execution_count": 31,
   "id": "a4e91b29",
   "metadata": {},
   "outputs": [
    {
     "name": "stdout",
     "output_type": "stream",
     "text": [
      "     product_id  onsale_web  price  stock_quantity stock_status\n",
      "208        4352           1  225.0               0   outofstock\n",
      "460        5001           1  217.5              20      instock\n",
      "635        5892           1  191.3              10      instock\n",
      "227        4402           1  176.0               8      instock\n",
      "598        5767           1  175.0              12      instock\n",
      "230        4406           1  157.0               3      instock\n",
      "242        4594           1  144.0               0   outofstock\n",
      "411        4904           1  137.0              13      instock\n",
      "697        6126           1  135.0              10      instock\n",
      "210        4355           1  126.5               2      instock\n",
      "556        5612           1  124.8              12      instock\n",
      "651        5917           1  122.0               4      instock\n",
      "712        6216           1  121.0               6      instock\n",
      "709        6213           1  121.0               7      instock\n",
      "703        6202           1  116.4              14      instock\n",
      "711        6215           1  115.0               4      instock\n",
      "708        6212           1  115.0               2      instock\n",
      "652        5918           1  114.0               8      instock\n",
      "475        5025           1  112.0               0   outofstock\n",
      "240        4582           1  109.6               7      instock\n",
      "228        4404           1  108.5               2      instock\n",
      "702        6201           1  105.6               7      instock\n",
      "466        5008           1  105.0              10      instock\n",
      "465        5007           1  105.0              17      instock\n",
      "231        4407           1  104.0               6      instock\n",
      "410        4903           1  102.3              20      instock\n",
      "66         4115           1  100.0              11      instock\n",
      "710        6214           1   99.0               7      instock\n",
      "650        5916           1   93.0               3      instock\n",
      "545        5565           1   92.0               0   outofstock\n",
      "724        6324           0   92.0              18      instock\n",
      "68         4132           1   88.4               5      instock\n",
      "476        5026           1   86.8               2      instock\n",
      "19         4055           0   86.1               0   outofstock\n",
      "214        4359           1   85.6               0   outofstock\n",
      "486        5070           1   84.7               0   outofstock\n",
      "551        5580           1   83.7              18      instock\n"
     ]
    }
   ],
   "source": [
    "out_upper_bound = erp.loc[erp['price'] > upper_bound]\n",
    "print(out_upper_bound.sort_values('price',ascending=False))"
   ]
  },
  {
   "cell_type": "code",
   "execution_count": 32,
   "id": "3fba85d5",
   "metadata": {},
   "outputs": [
    {
     "name": "stdout",
     "output_type": "stream",
     "text": [
      "Le nombre d'outliers est 37\n"
     ]
    }
   ],
   "source": [
    "print('Le nombre d\\'outliers est', len(out_upper_bound))"
   ]
  },
  {
   "cell_type": "code",
   "execution_count": 33,
   "id": "90a45c03",
   "metadata": {},
   "outputs": [
    {
     "name": "stdout",
     "output_type": "stream",
     "text": [
      "Empty DataFrame\n",
      "Columns: [product_id, onsale_web, price, stock_quantity, stock_status]\n",
      "Index: []\n",
      "Le nombre d'outliers est 0\n"
     ]
    }
   ],
   "source": [
    "out_lower_bound = erp.loc[erp['price'] < lower_bound]\n",
    "print(out_lower_bound)\n",
    "print('Le nombre d\\'outliers est', len(out_lower_bound))"
   ]
  },
  {
   "cell_type": "markdown",
   "id": "3b565080",
   "metadata": {},
   "source": [
    "#### Méthode avec Zscore"
   ]
  },
  {
   "cell_type": "code",
   "execution_count": 34,
   "id": "a215af7d",
   "metadata": {},
   "outputs": [
    {
     "name": "stdout",
     "output_type": "stream",
     "text": [
      "mean du dataframe est 32.41563636363638\n",
      "std. deviation est 26.779604366935427\n"
     ]
    }
   ],
   "source": [
    "mean = np.mean(erp['price'])\n",
    "std = np.std(erp['price'])\n",
    "print('mean du dataframe est', mean)\n",
    "print('std. deviation est', std)"
   ]
  },
  {
   "cell_type": "code",
   "execution_count": 35,
   "id": "e2265b62",
   "metadata": {},
   "outputs": [
    {
     "name": "stdout",
     "output_type": "stream",
     "text": [
      "Les outliers dans le dataframe sont  [86.1, 100.0, 88.4, 225.0, 126.5, 176.0, 108.5, 157.0, 104.0, 109.6, 144.0, 102.3, 137.0, 217.5, 105.0, 105.0, 112.0, 86.8, 92.0, 124.8, 175.0, 191.3, 93.0, 122.0, 114.0, 135.0, 105.6, 116.4, 115.0, 121.0, 99.0, 115.0, 121.0, 92.0]\n"
     ]
    }
   ],
   "source": [
    "threshold = 2\n",
    "outlier = []\n",
    "for i in erp['price']:\n",
    "    z = (i-mean)/std\n",
    "    if z > threshold:\n",
    "        outlier.append(i)\n",
    "print('Les outliers dans le dataframe sont ', outlier)"
   ]
  },
  {
   "cell_type": "code",
   "execution_count": 36,
   "id": "68061c93",
   "metadata": {},
   "outputs": [
    {
     "name": "stdout",
     "output_type": "stream",
     "text": [
      "Le nombre d'outliers est 34\n"
     ]
    }
   ],
   "source": [
    "print('Le nombre d\\'outliers est', len(outlier))"
   ]
  },
  {
   "cell_type": "markdown",
   "id": "ef0ec940",
   "metadata": {},
   "source": [
    "* Visualisation des données avec une boîte à moustache"
   ]
  },
  {
   "cell_type": "code",
   "execution_count": 37,
   "id": "ef7135dd",
   "metadata": {},
   "outputs": [
    {
     "data": {
      "image/png": "[encoded data removed]",
      "text/plain": [
       "<Figure size 640x480 with 1 Axes>"
      ]
     },
     "metadata": {},
     "output_type": "display_data"
    }
   ],
   "source": [
    "erp.boxplot(column=\"price\", vert=False)\n",
    "plt.show()"
   ]
  },
  {
   "cell_type": "markdown",
   "id": "45cdf08e",
   "metadata": {},
   "source": [
    "#### Analyse univariée sur les prix"
   ]
  },
  {
   "cell_type": "markdown",
   "id": "bd319c5c",
   "metadata": {},
   "source": [
    "* Création d'un dataframe filtré sur les produits en stock"
   ]
  },
  {
   "cell_type": "code",
   "execution_count": 38,
   "id": "81bb837e",
   "metadata": {},
   "outputs": [
    {
     "data": {
      "text/html": [
       "<div>\n",
       "<style scoped>\n",
       "    .dataframe tbody tr th:only-of-type {\n",
       "        vertical-align: middle;\n",
       "    }\n",
       "\n",
       "    .dataframe tbody tr th {\n",
       "        vertical-align: top;\n",
       "    }\n",
       "\n",
       "    .dataframe thead th {\n",
       "        text-align: right;\n",
       "    }\n",
       "</style>\n",
       "<table border=\"1\" class=\"dataframe\">\n",
       "  <thead>\n",
       "    <tr style=\"text-align: right;\">\n",
       "      <th></th>\n",
       "      <th>product_id</th>\n",
       "      <th>onsale_web</th>\n",
       "      <th>price</th>\n",
       "      <th>stock_quantity</th>\n",
       "      <th>stock_status</th>\n",
       "    </tr>\n",
       "  </thead>\n",
       "  <tbody>\n",
       "    <tr>\n",
       "      <th>6</th>\n",
       "      <td>4041</td>\n",
       "      <td>1</td>\n",
       "      <td>32.7</td>\n",
       "      <td>15</td>\n",
       "      <td>instock</td>\n",
       "    </tr>\n",
       "    <tr>\n",
       "      <th>7</th>\n",
       "      <td>4042</td>\n",
       "      <td>1</td>\n",
       "      <td>31.2</td>\n",
       "      <td>34</td>\n",
       "      <td>instock</td>\n",
       "    </tr>\n",
       "    <tr>\n",
       "      <th>8</th>\n",
       "      <td>4043</td>\n",
       "      <td>1</td>\n",
       "      <td>60.0</td>\n",
       "      <td>12</td>\n",
       "      <td>instock</td>\n",
       "    </tr>\n",
       "    <tr>\n",
       "      <th>9</th>\n",
       "      <td>4045</td>\n",
       "      <td>1</td>\n",
       "      <td>42.6</td>\n",
       "      <td>66</td>\n",
       "      <td>instock</td>\n",
       "    </tr>\n",
       "    <tr>\n",
       "      <th>11</th>\n",
       "      <td>4047</td>\n",
       "      <td>1</td>\n",
       "      <td>18.3</td>\n",
       "      <td>36</td>\n",
       "      <td>instock</td>\n",
       "    </tr>\n",
       "    <tr>\n",
       "      <th>...</th>\n",
       "      <td>...</td>\n",
       "      <td>...</td>\n",
       "      <td>...</td>\n",
       "      <td>...</td>\n",
       "      <td>...</td>\n",
       "    </tr>\n",
       "    <tr>\n",
       "      <th>820</th>\n",
       "      <td>7203</td>\n",
       "      <td>0</td>\n",
       "      <td>45.0</td>\n",
       "      <td>30</td>\n",
       "      <td>instock</td>\n",
       "    </tr>\n",
       "    <tr>\n",
       "      <th>821</th>\n",
       "      <td>7204</td>\n",
       "      <td>0</td>\n",
       "      <td>45.0</td>\n",
       "      <td>9</td>\n",
       "      <td>instock</td>\n",
       "    </tr>\n",
       "    <tr>\n",
       "      <th>822</th>\n",
       "      <td>7247</td>\n",
       "      <td>1</td>\n",
       "      <td>54.8</td>\n",
       "      <td>23</td>\n",
       "      <td>instock</td>\n",
       "    </tr>\n",
       "    <tr>\n",
       "      <th>823</th>\n",
       "      <td>7329</td>\n",
       "      <td>0</td>\n",
       "      <td>26.5</td>\n",
       "      <td>14</td>\n",
       "      <td>instock</td>\n",
       "    </tr>\n",
       "    <tr>\n",
       "      <th>824</th>\n",
       "      <td>7338</td>\n",
       "      <td>1</td>\n",
       "      <td>16.3</td>\n",
       "      <td>45</td>\n",
       "      <td>instock</td>\n",
       "    </tr>\n",
       "  </tbody>\n",
       "</table>\n",
       "<p>638 rows × 5 columns</p>\n",
       "</div>"
      ],
      "text/plain": [
       "     product_id  onsale_web  price  stock_quantity stock_status\n",
       "6          4041           1   32.7              15      instock\n",
       "7          4042           1   31.2              34      instock\n",
       "8          4043           1   60.0              12      instock\n",
       "9          4045           1   42.6              66      instock\n",
       "11         4047           1   18.3              36      instock\n",
       "..          ...         ...    ...             ...          ...\n",
       "820        7203           0   45.0              30      instock\n",
       "821        7204           0   45.0               9      instock\n",
       "822        7247           1   54.8              23      instock\n",
       "823        7329           0   26.5              14      instock\n",
       "824        7338           1   16.3              45      instock\n",
       "\n",
       "[638 rows x 5 columns]"
      ]
     },
     "execution_count": 38,
     "metadata": {},
     "output_type": "execute_result"
    }
   ],
   "source": [
    "instock = erp[erp[\"stock_status\"] == \"instock\"]\n",
    "instock"
   ]
  },
  {
   "cell_type": "markdown",
   "id": "adf7487f",
   "metadata": {},
   "source": [
    "* Les produits en stock les plus chers"
   ]
  },
  {
   "cell_type": "code",
   "execution_count": 39,
   "id": "523c0131",
   "metadata": {},
   "outputs": [
    {
     "data": {
      "text/html": [
       "<div>\n",
       "<style scoped>\n",
       "    .dataframe tbody tr th:only-of-type {\n",
       "        vertical-align: middle;\n",
       "    }\n",
       "\n",
       "    .dataframe tbody tr th {\n",
       "        vertical-align: top;\n",
       "    }\n",
       "\n",
       "    .dataframe thead th {\n",
       "        text-align: right;\n",
       "    }\n",
       "</style>\n",
       "<table border=\"1\" class=\"dataframe\">\n",
       "  <thead>\n",
       "    <tr style=\"text-align: right;\">\n",
       "      <th></th>\n",
       "      <th>product_id</th>\n",
       "      <th>price</th>\n",
       "      <th>onsale_web</th>\n",
       "      <th>stock_quantity</th>\n",
       "      <th>stock_status</th>\n",
       "    </tr>\n",
       "  </thead>\n",
       "  <tbody>\n",
       "    <tr>\n",
       "      <th>460</th>\n",
       "      <td>5001</td>\n",
       "      <td>217.5</td>\n",
       "      <td>1</td>\n",
       "      <td>20</td>\n",
       "      <td>instock</td>\n",
       "    </tr>\n",
       "    <tr>\n",
       "      <th>635</th>\n",
       "      <td>5892</td>\n",
       "      <td>191.3</td>\n",
       "      <td>1</td>\n",
       "      <td>10</td>\n",
       "      <td>instock</td>\n",
       "    </tr>\n",
       "    <tr>\n",
       "      <th>227</th>\n",
       "      <td>4402</td>\n",
       "      <td>176.0</td>\n",
       "      <td>1</td>\n",
       "      <td>8</td>\n",
       "      <td>instock</td>\n",
       "    </tr>\n",
       "    <tr>\n",
       "      <th>598</th>\n",
       "      <td>5767</td>\n",
       "      <td>175.0</td>\n",
       "      <td>1</td>\n",
       "      <td>12</td>\n",
       "      <td>instock</td>\n",
       "    </tr>\n",
       "    <tr>\n",
       "      <th>230</th>\n",
       "      <td>4406</td>\n",
       "      <td>157.0</td>\n",
       "      <td>1</td>\n",
       "      <td>3</td>\n",
       "      <td>instock</td>\n",
       "    </tr>\n",
       "    <tr>\n",
       "      <th>411</th>\n",
       "      <td>4904</td>\n",
       "      <td>137.0</td>\n",
       "      <td>1</td>\n",
       "      <td>13</td>\n",
       "      <td>instock</td>\n",
       "    </tr>\n",
       "    <tr>\n",
       "      <th>697</th>\n",
       "      <td>6126</td>\n",
       "      <td>135.0</td>\n",
       "      <td>1</td>\n",
       "      <td>10</td>\n",
       "      <td>instock</td>\n",
       "    </tr>\n",
       "    <tr>\n",
       "      <th>210</th>\n",
       "      <td>4355</td>\n",
       "      <td>126.5</td>\n",
       "      <td>1</td>\n",
       "      <td>2</td>\n",
       "      <td>instock</td>\n",
       "    </tr>\n",
       "    <tr>\n",
       "      <th>556</th>\n",
       "      <td>5612</td>\n",
       "      <td>124.8</td>\n",
       "      <td>1</td>\n",
       "      <td>12</td>\n",
       "      <td>instock</td>\n",
       "    </tr>\n",
       "    <tr>\n",
       "      <th>651</th>\n",
       "      <td>5917</td>\n",
       "      <td>122.0</td>\n",
       "      <td>1</td>\n",
       "      <td>4</td>\n",
       "      <td>instock</td>\n",
       "    </tr>\n",
       "  </tbody>\n",
       "</table>\n",
       "</div>"
      ],
      "text/plain": [
       "     product_id  price  onsale_web  stock_quantity stock_status\n",
       "460        5001  217.5           1              20      instock\n",
       "635        5892  191.3           1              10      instock\n",
       "227        4402  176.0           1               8      instock\n",
       "598        5767  175.0           1              12      instock\n",
       "230        4406  157.0           1               3      instock\n",
       "411        4904  137.0           1              13      instock\n",
       "697        6126  135.0           1              10      instock\n",
       "210        4355  126.5           1               2      instock\n",
       "556        5612  124.8           1              12      instock\n",
       "651        5917  122.0           1               4      instock"
      ]
     },
     "execution_count": 39,
     "metadata": {},
     "output_type": "execute_result"
    }
   ],
   "source": [
    "instock[['product_id', 'price','onsale_web', 'stock_quantity', 'stock_status']].sort_values('price', ascending=False).head(10)"
   ]
  },
  {
   "cell_type": "markdown",
   "id": "2e302286",
   "metadata": {},
   "source": [
    "* Les produits en stock les moins chers"
   ]
  },
  {
   "cell_type": "code",
   "execution_count": 40,
   "id": "1ef33d37",
   "metadata": {},
   "outputs": [
    {
     "data": {
      "text/html": [
       "<div>\n",
       "<style scoped>\n",
       "    .dataframe tbody tr th:only-of-type {\n",
       "        vertical-align: middle;\n",
       "    }\n",
       "\n",
       "    .dataframe tbody tr th {\n",
       "        vertical-align: top;\n",
       "    }\n",
       "\n",
       "    .dataframe thead th {\n",
       "        text-align: right;\n",
       "    }\n",
       "</style>\n",
       "<table border=\"1\" class=\"dataframe\">\n",
       "  <thead>\n",
       "    <tr style=\"text-align: right;\">\n",
       "      <th></th>\n",
       "      <th>product_id</th>\n",
       "      <th>price</th>\n",
       "      <th>onsale_web</th>\n",
       "      <th>stock_quantity</th>\n",
       "    </tr>\n",
       "  </thead>\n",
       "  <tbody>\n",
       "    <tr>\n",
       "      <th>700</th>\n",
       "      <td>6129</td>\n",
       "      <td>5.2</td>\n",
       "      <td>1</td>\n",
       "      <td>30</td>\n",
       "    </tr>\n",
       "    <tr>\n",
       "      <th>605</th>\n",
       "      <td>5777</td>\n",
       "      <td>5.7</td>\n",
       "      <td>1</td>\n",
       "      <td>132</td>\n",
       "    </tr>\n",
       "    <tr>\n",
       "      <th>100</th>\n",
       "      <td>4172</td>\n",
       "      <td>5.7</td>\n",
       "      <td>1</td>\n",
       "      <td>167</td>\n",
       "    </tr>\n",
       "    <tr>\n",
       "      <th>101</th>\n",
       "      <td>4173</td>\n",
       "      <td>5.7</td>\n",
       "      <td>1</td>\n",
       "      <td>100</td>\n",
       "    </tr>\n",
       "    <tr>\n",
       "      <th>102</th>\n",
       "      <td>4174</td>\n",
       "      <td>5.7</td>\n",
       "      <td>1</td>\n",
       "      <td>94</td>\n",
       "    </tr>\n",
       "    <tr>\n",
       "      <th>607</th>\n",
       "      <td>5779</td>\n",
       "      <td>5.8</td>\n",
       "      <td>1</td>\n",
       "      <td>211</td>\n",
       "    </tr>\n",
       "    <tr>\n",
       "      <th>606</th>\n",
       "      <td>5778</td>\n",
       "      <td>5.8</td>\n",
       "      <td>1</td>\n",
       "      <td>36</td>\n",
       "    </tr>\n",
       "    <tr>\n",
       "      <th>123</th>\n",
       "      <td>4200</td>\n",
       "      <td>5.8</td>\n",
       "      <td>1</td>\n",
       "      <td>190</td>\n",
       "    </tr>\n",
       "    <tr>\n",
       "      <th>122</th>\n",
       "      <td>4198</td>\n",
       "      <td>5.8</td>\n",
       "      <td>1</td>\n",
       "      <td>105</td>\n",
       "    </tr>\n",
       "    <tr>\n",
       "      <th>309</th>\n",
       "      <td>4680</td>\n",
       "      <td>6.3</td>\n",
       "      <td>1</td>\n",
       "      <td>34</td>\n",
       "    </tr>\n",
       "  </tbody>\n",
       "</table>\n",
       "</div>"
      ],
      "text/plain": [
       "     product_id  price  onsale_web  stock_quantity\n",
       "700        6129    5.2           1              30\n",
       "605        5777    5.7           1             132\n",
       "100        4172    5.7           1             167\n",
       "101        4173    5.7           1             100\n",
       "102        4174    5.7           1              94\n",
       "607        5779    5.8           1             211\n",
       "606        5778    5.8           1              36\n",
       "123        4200    5.8           1             190\n",
       "122        4198    5.8           1             105\n",
       "309        4680    6.3           1              34"
      ]
     },
     "execution_count": 40,
     "metadata": {},
     "output_type": "execute_result"
    }
   ],
   "source": [
    "instock[['product_id', 'price','onsale_web', 'stock_quantity']].sort_values('price', ascending=True).head(10)"
   ]
  },
  {
   "cell_type": "markdown",
   "id": "0eb43888",
   "metadata": {},
   "source": [
    "* Histogramme des prix des produits en stock"
   ]
  },
  {
   "cell_type": "code",
   "execution_count": 41,
   "id": "9b0846b0",
   "metadata": {},
   "outputs": [
    {
     "data": {
      "image/png": "[encoded data removed]",
      "text/plain": [
       "<Figure size 640x480 with 1 Axes>"
      ]
     },
     "metadata": {},
     "output_type": "display_data"
    }
   ],
   "source": [
    "instock[\"price\"].hist(density=True,bins=20)\n",
    "plt.show()"
   ]
  },
  {
   "cell_type": "code",
   "execution_count": null,
   "id": "874ff30b",
   "metadata": {},
   "outputs": [],
   "source": []
  }
 ],
 "metadata": {
  "kernelspec": {
   "display_name": "Python 3.8.13 ('base')",
   "language": "python",
   "name": "python3"
  },
  "language_info": {
   "codemirror_mode": {
    "name": "ipython",
    "version": 3
   },
   "file_extension": ".py",
   "mimetype": "text/x-python",
   "name": "python",
   "nbconvert_exporter": "python",
   "pygments_lexer": "ipython3",
   "version": "3.8.13"
  },
  "vscode": {
   "interpreter": {
    "hash": "ff9ad4cfcb67369d60715f6572f365535155a9efb3ceee80aa7314812650682e"
   }
  }
 },
 "nbformat": 4,
 "nbformat_minor": 5
}
